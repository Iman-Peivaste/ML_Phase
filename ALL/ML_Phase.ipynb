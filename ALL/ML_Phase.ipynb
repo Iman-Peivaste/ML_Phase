{
 "cells": [
  {
   "cell_type": "code",
   "execution_count": 1,
   "id": "543ae2d5",
   "metadata": {},
   "outputs": [],
   "source": [
    "import numpy as np\n",
    "import pandas as pd\n",
    "from sklearn.preprocessing import OneHotEncoder\n",
    "from sklearn.preprocessing import OrdinalEncoder\n",
    "from sklearn.cluster import KMeans\n",
    "from sklearn.ensemble import RandomForestClassifier\n",
    "from sklearn.model_selection import train_test_split\n",
    "from sklearn.preprocessing import MinMaxScaler\n",
    "from sklearn.preprocessing import StandardScaler\n",
    "from sklearn.ensemble import IsolationForest\n",
    "from sklearn.metrics import accuracy_score\n",
    "import tensorflow as  tf\n",
    "import matplotlib.pyplot as plt\n",
    "from pytorch_tabnet.tab_model import TabNetClassifier\n",
    "from pytorch_tabnet.multitask import TabNetMultiTaskClassifier\n",
    "from tqdm import tqdm\n",
    "from imblearn.over_sampling import SMOTE, ADASYN\n",
    "from imblearn.combine import SMOTEENN\n",
    "from imblearn.pipeline import make_pipeline\n",
    "from collections import Counter\n",
    "import xgboost as xgb\n",
    "import pymatgen.core as mg\n",
    "from sklearn.linear_model import SGDClassifier\n",
    "from sklearn.model_selection import cross_val_score\n",
    "import pickle\n",
    "from sklearn.ensemble import RandomForestClassifier\n",
    "from sklearn.model_selection import cross_val_predict\n",
    "from sklearn.svm import SVC\n",
    "from sklearn.neighbors import KNeighborsClassifier\n",
    "from sklearn.metrics import f1_score\n",
    "from sklearn.metrics import accuracy_score\n",
    "from sklearn.tree import DecisionTreeClassifier\n",
    "from sklearn.ensemble import VotingClassifier\n",
    "from sklearn.linear_model import LogisticRegression\n",
    "from sklearn.ensemble import AdaBoostClassifier\n",
    "from sklearn.decomposition import PCA"
   ]
  },
  {
   "cell_type": "markdown",
   "id": "6d3cbcd0",
   "metadata": {},
   "source": [
    "# In this we use dataset of HEA and elemental properties to create a dataset\n"
   ]
  },
  {
   "cell_type": "code",
   "execution_count": 11,
   "id": "69078f2d",
   "metadata": {},
   "outputs": [
    {
     "name": "stdout",
     "output_type": "stream",
     "text": [
      "Creating an Empty dataframe\n"
     ]
    },
    {
     "name": "stderr",
     "output_type": "stream",
     "text": [
      "100%|███████████████████████████████████████████████████████████████████████████| 10387/10387 [00:29<00:00, 352.10it/s]\n"
     ]
    },
    {
     "name": "stdout",
     "output_type": "stream",
     "text": [
      "filling the dataframe regarding the composition of alloys\n"
     ]
    },
    {
     "name": "stderr",
     "output_type": "stream",
     "text": [
      "100%|███████████████████████████████████████████████████████████████████████████| 10387/10387 [00:38<00:00, 266.98it/s]\n"
     ]
    },
    {
     "name": "stdout",
     "output_type": "stream",
     "text": [
      "Applying rule of mixture\n"
     ]
    },
    {
     "name": "stderr",
     "output_type": "stream",
     "text": [
      "100%|████████████████████████████████████████████████████████████████████████████| 10387/10387 [02:48<00:00, 61.51it/s]\n"
     ]
    }
   ],
   "source": [
    "df = pd.read_csv('10387_2_noP.csv', encoding=\"iso-8859-1\")\n",
    "NAME_HEAs = list (df['Alloy'])\n",
    "\n",
    "#%% creating an empty dataframe with columns of elements and row of alloys\n",
    "element_symbols = ['Num_el','H', 'He', 'Li', 'Be', 'B', 'C', 'N', 'O', 'F', 'Ne',\n",
    "                   'Na', 'Mg', 'Al', 'Si', 'P', 'S', 'Cl', 'Ar', 'K', 'Ca',\n",
    "                   'Sc', 'Ti', 'V', 'Cr', 'Mn', 'Fe', 'Co', 'Ni', 'Cu', 'Zn',\n",
    "                   'Ga', 'Ge', 'As', 'Se', 'Br', 'Kr', 'Rb', 'Sr', 'Y', 'Zr',\n",
    "                   'Nb', 'Mo', 'Tc', 'Ru', 'Rh', 'Pd', 'Ag', 'Cd', 'In', 'Sn',\n",
    "                   'Sb', 'Te', 'I', 'Xe', 'Cs', 'Ba', 'La', 'Ce', 'Pr', 'Nd',\n",
    "                   'Pm', 'Sm', 'Eu', 'Gd', 'Tb', 'Dy', 'Ho', 'Er', 'Tm', 'Yb',\n",
    "                   'Lu', 'Hf', 'Ta', 'W', 'Re', 'Os', 'Ir', 'Pt', 'Au', 'Hg',\n",
    "                   'Tl', 'Pb', 'Bi', 'Th', 'Pa', 'U', 'Np', 'Pu', 'Am', 'Cm',\n",
    "                   'Bk', 'Cf', 'Es', 'Fm', 'Md', 'No', 'Lr', 'Rf', 'Db', 'Sg',\n",
    "                   'Bh', 'Hs', 'Mt', 'Ds', 'Rg', 'Cn', 'Nh', 'Fl', 'Mc', 'Lv',\n",
    "                   'Ts', 'Og']\n",
    "\n",
    "# Create an empty dataframe with columns named after element symbols\n",
    "df2 = pd.DataFrame(columns=element_symbols)\n",
    "print('Creating an Empty dataframe')\n",
    "for s in tqdm(range (len(NAME_HEAs))):\n",
    "    df2.loc[s] = [0]*len(element_symbols)\n",
    "    \n",
    "    \n",
    "df2.index = NAME_HEAs\n",
    "\n",
    "#%% to fill the above data frame\n",
    "print('filling the dataframe regarding the composition of alloys')\n",
    "i = 0\n",
    "for name in tqdm(NAME_HEAs):\n",
    "    # print(name)\n",
    "    \n",
    "    HEAs = mg.Composition(name)\n",
    "    sym = []\n",
    "    frac = []\n",
    "    \n",
    "    for i in range (len(HEAs)):\n",
    "        el = HEAs.elements[i].symbol\n",
    "        el_frac = HEAs.get_atomic_fraction(el)\n",
    "        sym.append(el)\n",
    "        frac.append(el_frac)\n",
    "    \n",
    "    for j in range (len(sym)):\n",
    "        df2.loc[name, 'Num_el'] = len(sym)\n",
    "        df2.loc[name, sym[j]] = frac[j] \n",
    "#%%\n",
    "cols_with_all_zeros = df2.columns[(df2 == 0).all()] #delete columns with zero values\n",
    "df2 = df2.drop(cols_with_all_zeros, axis=1)\n",
    "df2 = df2.iloc[:, :-5] #delete columns with none values\n",
    "#%%\n",
    "class Read_prepare_data:\n",
    "    def __init__(self, name='elemental_propertieses2.csv'):\n",
    "        self.df = pd.read_csv(name)\n",
    "        # self.df.drop('Unnamed: 0',inplace=True, axis=1)\n",
    "        # self.df.sort_values(by=['atomic_number'], ascending=True, inplace=True, ignore_index=True)\n",
    "        self.df.set_index('symbol', inplace=True)\n",
    "    def list_att(self):\n",
    "        return self.df.columns.tolist()\n",
    "\n",
    "    def keep_att(self, list_keep): #When the number of attributes or discroptors is huge we just keep some of them\n",
    "        self.df = self.df[list_keep]\n",
    "        return  self.df.dropna()\n",
    "    \n",
    "    def drop_att(self, list_drop):\n",
    "        \n",
    "        for i in list_drop:\n",
    "            self.df.drop(i, inplace=True, axis=1)\n",
    "            \n",
    "        return self.df\n",
    "        \n",
    "#%%\n",
    "obj = Read_prepare_data()\n",
    "att = obj.list_att()\n",
    "my_choice2 = ['VEC', 'Pauling_EN', 'Melting_point_K','DFT_LDA_Etot', \n",
    "'outer_shell_electrons', 'no_of_valence_electrons',\n",
    "              'Atomic_radius_calculated', 'Atomic_weight']\n",
    "df_element_attribute = obj.keep_att(my_choice2)\n",
    "#%%\n",
    "corr_matrix = df_element_attribute.corr()\n",
    "\n",
    "#%%\n",
    "class Mixture:\n",
    "    def __init__(self, name, ATT, df):\n",
    "        self.HEAs = mg.Composition(name)\n",
    "        self.sym = []\n",
    "        self.frac = []\n",
    "        self.df = df\n",
    "        self.ATT = ATT\n",
    "    \n",
    "        for i in range (len(self.HEAs)):\n",
    "            self.el1 = self.HEAs.elements[i].symbol\n",
    "            self.el1_frac = self.HEAs.get_atomic_fraction(self.el1)\n",
    "            \n",
    "            self.sym.append(self.el1)\n",
    "            self.frac.append(self.el1_frac)\n",
    "            \n",
    "        self.b = []\n",
    "        for m in self.sym:\n",
    "            self.condition = self.df.index == m\n",
    "            self.indices = self.df.index[self.condition]\n",
    "            self.var = self.df.loc[self.indices, self.ATT]\n",
    "            self.var2 = pd.Series.to_numpy(self.var)\n",
    "            self.var2 = self.var2[0]\n",
    "            \n",
    "            self.b.append(self.var2)\n",
    "         \n",
    "    def mix(self):\n",
    "        self.b = np.array(self.b)\n",
    "        self.frac = np.array(self.frac)\n",
    "        \n",
    "        self.final = np.dot(self.b, self.frac)\n",
    "        return self.final\n",
    "#%%\n",
    "att_name = list(df_element_attribute.columns)\n",
    "#%%\n",
    "print(\"Applying rule of mixture\")\n",
    "whole = []\n",
    "i=0\n",
    "for Name in tqdm(NAME_HEAs):\n",
    "    #print(Name)\n",
    "    #i=i+1\n",
    "    #print(i)\n",
    "    \n",
    "    for at in att_name:\n",
    "        ex = Mixture(Name, at, df_element_attribute)\n",
    "        tmp = ex.mix()\n",
    "        whole.append(tmp)\n",
    "whole = np.reshape(whole, (len(NAME_HEAs), len(att_name)))\n",
    "data = pd.DataFrame(whole, index = NAME_HEAs, columns=att_name)\n",
    "\n",
    "#%%\n",
    "#sqrt(sigma(i-ave)**2)\n",
    "lst_difs = ['Pauling_EN']\n",
    "\n",
    "for ii, lst_dif in enumerate(lst_difs):\n",
    "    ind = list(data.index)\n",
    "    dif_lst = []\n",
    "    for iterator in ind:\n",
    "        \n",
    "        av = data.loc[iterator, lst_dif]\n",
    "        if isinstance(av, pd.core.series.Series):\n",
    "            av = av.iloc[0]\n",
    "        sum_power_two_mul_frac = 0\n",
    "        com = mg.Composition(iterator)\n",
    "        for el in range (len(com)):\n",
    "            symb = com.elements[el].symbol\n",
    "            fra  = com.get_atomic_fraction(symb) \n",
    "            i_th_att = df_element_attribute.loc[symb, lst_dif]\n",
    "            power_two = (i_th_att-av)**2\n",
    "            power_two_mul_frac = fra * power_two\n",
    "            sum_power_two_mul_frac+= power_two_mul_frac\n",
    "            \n",
    "        final = np.sqrt(sum_power_two_mul_frac)\n",
    "        dif_lst.append(final)\n",
    "        \n",
    "    \n",
    "    data[lst_dif+'_div'] = dif_lst\n",
    "\n",
    "\n",
    "#%% Entropy\n",
    "ind = list(data.index)\n",
    "entropy = 0\n",
    "entropy_list = []\n",
    "for iterator in ind:\n",
    "    com = mg.Composition(iterator)\n",
    "    entropy = 0\n",
    "    for el in range (len(com)):\n",
    "        symb = com.elements[el].symbol\n",
    "        fra  = com.get_atomic_fraction(symb) \n",
    "        entropy += -8.314*fra * ((np.log(fra)))\n",
    "    entropy_list.append(entropy)\n",
    "\n",
    "\n",
    "data['entropy'] = entropy_list\n",
    "\n",
    "#%%\n",
    "#sqrt(sigma(1-i/ave)**2)\n",
    "lst_difs = ['Atomic_radius_calculated']\n",
    "\n",
    "for ii, lst_dif in enumerate(lst_difs):\n",
    "    ind = list(data.index)\n",
    "    dif_lst = []\n",
    "    for iterator in ind:\n",
    "        \n",
    "        av = data.loc[iterator, lst_dif]\n",
    "        if isinstance(av, pd.core.series.Series):\n",
    "            av = av.iloc[0]\n",
    "        sum_power_two_mul_frac = 0\n",
    "        com = mg.Composition(iterator)\n",
    "        for el in range (len(com)):\n",
    "            symb = com.elements[el].symbol\n",
    "            fra  = com.get_atomic_fraction(symb) \n",
    "            i_th_att = df_element_attribute.loc[symb, lst_dif]\n",
    "            power_two = (1.0-i_th_att/av)**2\n",
    "            power_two_mul_frac = fra * power_two\n",
    "            sum_power_two_mul_frac+= power_two_mul_frac\n",
    "            \n",
    "        final = np.sqrt(sum_power_two_mul_frac)\n",
    "        dif_lst.append(final)\n",
    "        \n",
    "    \n",
    "    data[lst_dif+'_dif'] = dif_lst\n",
    "\n",
    "\n",
    "#%% mixing enthalpy 4Hcicj\n",
    "ind = list(data.index)\n",
    "\n",
    "df_enthalpy = pd.read_csv('Enthalpy_mix.csv')\n",
    "df_enthalpy.set_index('symbol', inplace=True)\n",
    "df_enthalpy.drop('H',inplace=True, axis=1)\n",
    "\n",
    "mix_enthalpy = []\n",
    "for iterator in ind:\n",
    "    #print(iterator)\n",
    "    com = mg.Composition(iterator)\n",
    "\n",
    "    symb = []\n",
    "    frac = []\n",
    "    for i in range (len(com)):\n",
    "        sym = com.elements[i].symbol\n",
    "        # el1_frac = com.get_atomic_fraction(sym)\n",
    "        symb.append(sym)\n",
    "        # frac.append(el1_frac)\n",
    "    agg = 0\n",
    "\n",
    "    for k in symb:\n",
    "        for n in symb:\n",
    "            if k==n: \n",
    "                continue\n",
    "            else:\n",
    "                mix = df_enthalpy.loc[k,n]\n",
    "                k_frac = com.get_atomic_fraction(k)\n",
    "                n_frac = com.get_atomic_fraction(n)\n",
    "                agg += mix * k_frac * n_frac\n",
    "                \n",
    "    mix_enthalpy.append(2*agg)\n",
    "\n",
    "\n",
    "\n",
    "data['Enthalpy'] = mix_enthalpy\n",
    "#%%\n",
    "\n",
    "df_concatenated = pd.concat([df2, data], axis=1)\n",
    "#%%\n",
    "\n",
    "y = df[\"Phase\"].copy()\n",
    "y = y.to_frame()\n",
    "data_rest = df_concatenated.reset_index()\n",
    "data_rest['Geo'] = data_rest['entropy'] / (data_rest['Atomic_radius_calculated_dif'])**2\n",
    "data_final = pd.concat([data_rest, y], axis=1)\n",
    "data_final['Atomic_radius_calculated_dif'] = data_final['Atomic_radius_calculated_dif']*100\n",
    "data_final['E_per_el'] = data_final['DFT_LDA_Etot']/data_final['Num_el']\n",
    "#data_final['Omega'] = data_final['Melting_point_K'] * data_final['entropy'] / abs(data_final['Enthalpy'])"
   ]
  },
  {
   "cell_type": "markdown",
   "id": "075b51ad",
   "metadata": {},
   "source": [
    "# Droping Duplicate"
   ]
  },
  {
   "cell_type": "code",
   "execution_count": 49,
   "id": "be823c77",
   "metadata": {},
   "outputs": [],
   "source": [
    "data = data_final\n",
    "df = data.iloc[:, :-3].join(data.iloc[:, -1:].join(data.iloc[:, -2:-1]))\n",
    "df.drop_duplicates(keep='first', inplace=True) # droping duplicates"
   ]
  },
  {
   "cell_type": "code",
   "execution_count": 50,
   "id": "89597b81",
   "metadata": {},
   "outputs": [
    {
     "data": {
      "text/plain": [
       "(7590, 69)"
      ]
     },
     "execution_count": 50,
     "metadata": {},
     "output_type": "execute_result"
    }
   ],
   "source": [
    "df.shape"
   ]
  },
  {
   "cell_type": "markdown",
   "id": "eec8be57",
   "metadata": {},
   "source": [
    "# Droping data with inconsistant reports of phase"
   ]
  },
  {
   "cell_type": "code",
   "execution_count": 51,
   "id": "77364b9c",
   "metadata": {},
   "outputs": [],
   "source": [
    "duplicates = df[df.iloc[:, :-1].duplicated(keep=False)]\n",
    "grouped = duplicates.groupby(list(duplicates.iloc[:, :-1].columns))\n",
    "mask = grouped['Phase'].nunique() > 1\n",
    "indices_to_drop = mask[mask].index\n",
    "df.drop(df.index[df.iloc[:, :-1].apply(tuple, axis=1).isin(indices_to_drop)], inplace=True)\n",
    "\n",
    "output = df['Phase'].to_frame()\n",
    "df.drop(df.columns[-1], axis=1, inplace=True) # drop phase\n",
    "df['Omega'] = df['Melting_point_K'] * df['entropy'] / abs(df['Enthalpy'])\n",
    "df = pd.concat([df, output], axis=1)"
   ]
  },
  {
   "cell_type": "markdown",
   "id": "ecb01b33",
   "metadata": {},
   "source": [
    "# Composition plot\n"
   ]
  },
  {
   "cell_type": "code",
   "execution_count": null,
   "id": "720d7c30",
   "metadata": {},
   "outputs": [],
   "source": []
  },
  {
   "cell_type": "markdown",
   "id": "997414b4",
   "metadata": {},
   "source": [
    "# Anomoly detection"
   ]
  },
  {
   "cell_type": "code",
   "execution_count": 52,
   "id": "3098626d",
   "metadata": {},
   "outputs": [],
   "source": [
    "df = df.iloc[:,-15:]\n",
    "df['Geo'] = df['entropy'] / (df['Atomic_radius_calculated_dif'])**2"
   ]
  },
  {
   "cell_type": "code",
   "execution_count": 53,
   "id": "f0104363",
   "metadata": {},
   "outputs": [],
   "source": [
    "df = df.drop('Geo', axis=1)\n",
    "df = df.drop('Omega', axis=1)"
   ]
  },
  {
   "cell_type": "code",
   "execution_count": 54,
   "id": "09148bf2",
   "metadata": {},
   "outputs": [
    {
     "name": "stderr",
     "output_type": "stream",
     "text": [
      "100%|██████████████████████████████████████████████████████████████████████████████████| 11/11 [00:02<00:00,  5.01it/s]\n"
     ]
    }
   ],
   "source": [
    "output = df['Phase'].to_frame()\n",
    "cat_list = output.index.tolist()\n",
    "cat_num =  df['Phase'].value_counts()\n",
    "#%%\n",
    "def remove_outliers(data):\n",
    "    data_encoded = pd.get_dummies(data, columns=['Phase'])\n",
    "\n",
    "    model = IsolationForest(n_estimators=100, contamination='auto', random_state=42)\n",
    "    # Fit the model to the data\n",
    "    model.fit(data_encoded)\n",
    "    \n",
    "    # Predict the outliers\n",
    "    outliers = model.predict(data_encoded)\n",
    "    \n",
    "    # Filter the outliers from the original dataset\n",
    "    data_filtered = data[~(outliers == -1)]\n",
    "    cat_vars = ['Phase']\n",
    "    filtered_cat_vars = data_filtered[cat_vars]\n",
    "    filtered_data = pd.concat([data_filtered.drop(cat_vars, axis=1), filtered_cat_vars], axis=1)\n",
    "    return filtered_data\n",
    "\n",
    "BCC = df[df['Phase'] == 'BCC']\n",
    "FCC = df[df['Phase'] == 'FCC']\n",
    "FCC_BCC =  df[df['Phase'] == 'BCC+FCC']\n",
    "\n",
    "BCC_IM = df[df['Phase'] == 'BCC+IM']\n",
    "FCC_IM = df[df['Phase'] == 'FCC+IM']\n",
    "FCC_BCC_IM =  df[df['Phase'] == 'BCC+FCC+IM']\n",
    "IM =  df[df['Phase'] == 'IM']\n",
    "\n",
    "AM =  df[df['Phase'] == 'AM']\n",
    "BCC_AM =  df[df['Phase'] == 'BCC+AM']\n",
    "FCC_AM =  df[df['Phase'] == 'FCC+AM']\n",
    "FCC_BCC_AM =  df[df['Phase'] == 'BCC+FCC+AM']\n",
    "\n",
    "dfs = [BCC, FCC, FCC_BCC, BCC_IM, FCC_IM, FCC_BCC_IM,IM, AM, BCC_AM,FCC_AM , FCC_BCC_AM ]\n",
    "\n",
    "new_df = []\n",
    "for dd in tqdm(dfs):\n",
    "    dd = remove_outliers(dd)\n",
    "    new_df.append(dd)\n",
    "df = pd.concat(new_df, axis=0, ignore_index=True)"
   ]
  },
  {
   "cell_type": "code",
   "execution_count": 55,
   "id": "c21380a6",
   "metadata": {},
   "outputs": [
    {
     "data": {
      "text/plain": [
       "(5677, 14)"
      ]
     },
     "execution_count": 55,
     "metadata": {},
     "output_type": "execute_result"
    }
   ],
   "source": [
    "df.shape"
   ]
  },
  {
   "cell_type": "markdown",
   "id": "a698e2ff",
   "metadata": {},
   "source": [
    "# Plotting anamoly detection"
   ]
  },
  {
   "cell_type": "code",
   "execution_count": null,
   "id": "3f217f32",
   "metadata": {},
   "outputs": [],
   "source": [
    "plt.rcParams[\"font.family\"] = \"Times New Roman\"\n",
    "plt.rcParams.update({'font.size': 20})\n",
    "\n",
    "def plt_vec_size(df):\n",
    "    fig, ax = plt.subplots(figsize=(12, 8))\n",
    "    categories = df['Phase']\n",
    "    \n",
    "    # define a color map for the categories\n",
    "    colors = {'FCC': 'r', 'BCC': 'g', 'BCC+FCC': 'b'}\n",
    "    color_list = [colors[cat] for cat in categories]\n",
    "    \n",
    "    plt.scatter(x = df['VEC'], y=df['Pauling_EN'], c =color_list)\n",
    "    # ax.scatter(x = df['VEC'], y=df['Atomic_radius_calculated_dif'], c =color_list)\n",
    "    \n",
    "    \n",
    "    handles = [plt.plot([],[], marker=\"o\", ls=\"\", color=color, label=label)[0] \n",
    "               for label, color in colors.items()]\n",
    "    plt.legend(handles=handles, title='Categories', loc='lower right')\n",
    "    \n",
    "    \n",
    "    plt.xlabel('VEC')\n",
    "    plt.ylabel((r'$Electronegativity$'))\n",
    "    fig.savefig('Pauling_EN(FCC&BCC)_NOaut.jpg', dpi=600)\n",
    "\n",
    "\n",
    "BCC = df[df['Phase'] == 'BCC']\n",
    "BCC_ = BCC.describe()\n",
    "FCC = df[df['Phase'] == 'FCC']\n",
    "FCC_ = FCC.describe()\n",
    "FCC_BCC =  df[df['Phase'] == 'BCC+FCC']\n",
    "FCC_BCC_= FCC_BCC.describe()\n",
    "\n",
    "dfs = [BCC, FCC, FCC_BCC]\n",
    "df = pd.concat(dfs, axis=0, ignore_index=True)\n",
    "\n",
    "plt_vec_size(df)"
   ]
  },
  {
   "cell_type": "code",
   "execution_count": 48,
   "id": "3dd1ddf2",
   "metadata": {},
   "outputs": [
    {
     "data": {
      "text/plain": [
       "(4025, 14)"
      ]
     },
     "execution_count": 48,
     "metadata": {},
     "output_type": "execute_result"
    }
   ],
   "source": [
    "df.shape"
   ]
  },
  {
   "cell_type": "markdown",
   "id": "56e0b947",
   "metadata": {},
   "source": [
    "# Preprocessing"
   ]
  },
  {
   "cell_type": "code",
   "execution_count": 56,
   "id": "694d6c56",
   "metadata": {},
   "outputs": [],
   "source": [
    "def normalization (df_in, method='std',  bb=0, ee=13):\n",
    "    \n",
    "    need_scale = df_in.columns[bb:ee]\n",
    "    #need_scale = df_in.columns[26:35]\n",
    "    \n",
    "    # here we need to selcet which type of standardization wee need\n",
    "    if method == 'std':\n",
    "        scaler = StandardScaler()\n",
    "    else: \n",
    "        scaler = MinMaxScaler()\n",
    "    \n",
    "    cols_to_norm = need_scale\n",
    "    df_in[cols_to_norm] = scaler.fit_transform(df_in[cols_to_norm])\n",
    "    return df_in\n",
    "\n",
    "def input_output(df, output_name= 'Phase', cat_name = 'process'):\n",
    "    # cat_encoder = OneHotEncoder()\n",
    "    ordinal_encoder = OrdinalEncoder()\n",
    "    df_out = ordinal_encoder.fit_transform(df[[output_name]])\n",
    "    df_out = df_out.ravel()\n",
    "    df_in = df.drop(output_name, axis=1)\n",
    "    # df_in = df_in.drop('Alloy ', axis=1)\n",
    "    # df_encoded = pd.get_dummies(df_in[cat_name], prefix=cat_name)\n",
    "    # df_in = pd.concat([df_in.drop(cat_name, axis=1), df_encoded], axis=1)\n",
    "    return df_in, df_out\n",
    "def split(df_in, df_out, test_size = 0.1 ):\n",
    "    X_train, X_test, y_train, y_test = train_test_split(df_in, df_out, test_size=test_size, random_state=42)\n",
    "    return X_train, X_test, y_train, y_test\n",
    "def RF_train(X_train, y_train,n_estimators ):\n",
    "    model = RandomForestClassifier(n_estimators=n_estimators, random_state=42)\n",
    "    print('Begining of fitting')\n",
    "    model.fit(X_train, y_train)\n",
    "    print('End of fitting')\n",
    "    return model"
   ]
  },
  {
   "cell_type": "markdown",
   "id": "7696fb40",
   "metadata": {},
   "source": [
    "# Normalization"
   ]
  },
  {
   "cell_type": "code",
   "execution_count": 57,
   "id": "7ebbf047",
   "metadata": {},
   "outputs": [],
   "source": [
    "df = normalization(df)"
   ]
  },
  {
   "cell_type": "markdown",
   "id": "b9fa00cc",
   "metadata": {},
   "source": [
    "# Train-test split and data augmentation"
   ]
  },
  {
   "cell_type": "code",
   "execution_count": 59,
   "id": "77dab28f",
   "metadata": {},
   "outputs": [],
   "source": [
    "output = df['Phase'].to_frame()\n",
    "df.drop(df.columns[-1], axis=1, inplace=True)\n",
    "X_train, X_test, y_train, y_test =  split(df, output)\n",
    "X_resampled, y_resampled = ADASYN().fit_resample(X_train, y_train)\n",
    "cat_num =  y_train['Phase'].value_counts()\n",
    "cat_num2 =  y_resampled['Phase'].value_counts()"
   ]
  },
  {
   "cell_type": "markdown",
   "id": "77e46369",
   "metadata": {},
   "source": [
    "## ploting data augmentation\n"
   ]
  },
  {
   "cell_type": "code",
   "execution_count": 62,
   "id": "d68a20f0",
   "metadata": {
    "collapsed": true
   },
   "outputs": [
    {
     "data": {
      "image/png": "[encoded data removed]",
      "text/plain": [
       "<Figure size 640x480 with 1 Axes>"
      ]
     },
     "metadata": {},
     "output_type": "display_data"
    },
    {
     "data": {
      "text/plain": [
       "<Figure size 640x480 with 0 Axes>"
      ]
     },
     "metadata": {},
     "output_type": "display_data"
    }
   ],
   "source": [
    "plt.figure()\n",
    "ax = cat_num2.plot.bar(color='blue', label='Synthesized data')\n",
    "cat_num.plot.bar(color='red', label='Original data', ax=ax)\n",
    "plt.subplots_adjust(bottom=0.4)\n",
    "plt.legend(loc='upper right', bbox_to_anchor=(1, 1.21))\n",
    "plt.rcParams.update({'font.family': 'Times New Roman', 'font.size': 9})\n",
    "plt.ylabel(\"Number of alloys\")\n",
    "plt.show()\n",
    "plt.savefig('Cat_caunt.jpg', dpi=600, bbox_inches='tight')"
   ]
  },
  {
   "cell_type": "code",
   "execution_count": 65,
   "id": "856ee71a",
   "metadata": {},
   "outputs": [
    {
     "name": "stdout",
     "output_type": "stream",
     "text": [
      "        Phase\n",
      "2609      FCC\n",
      "2656      FCC\n",
      "5317       AM\n",
      "2669      FCC\n",
      "3317  BCC+FCC\n",
      "...       ...\n",
      "3772  BCC+FCC\n",
      "5191       AM\n",
      "5226       AM\n",
      "5390       AM\n",
      "860       BCC\n",
      "\n",
      "[5109 rows x 1 columns]\n"
     ]
    }
   ],
   "source": [
    "print(y_train)"
   ]
  },
  {
   "cell_type": "code",
   "execution_count": 66,
   "id": "3018eca3",
   "metadata": {},
   "outputs": [
    {
     "name": "stdout",
     "output_type": "stream",
     "text": [
      "           VEC  Pauling_EN  Melting_point_K  DFT_LDA_Etot  \\\n",
      "2609  1.334290    1.076953        -0.703296     -0.413807   \n",
      "2656  0.999670    0.599466         0.540295     -0.400076   \n",
      "5317  0.483336   -0.301745         0.421739     -0.193751   \n",
      "2669  1.085940    0.803637        -0.949171     -0.269328   \n",
      "3317 -0.210141    0.191323         0.317350      0.317529   \n",
      "...        ...         ...              ...           ...   \n",
      "3772  0.658940    0.836816        -0.977970     -0.014281   \n",
      "5191  0.806458    0.710303         0.839562     -0.307000   \n",
      "5226  0.793203    0.419071         0.518954     -0.308426   \n",
      "5390  0.353906   -0.683797         0.287848     -0.143006   \n",
      "860  -1.034954   -0.707191        -1.163477      0.887816   \n",
      "\n",
      "      outer_shell_electrons  no_of_valence_electrons  \\\n",
      "2609              -1.026410                 1.310560   \n",
      "2656              -0.953767                 0.975536   \n",
      "5317              -0.922044                 0.458579   \n",
      "2669              -1.203996                 1.061911   \n",
      "3317               0.520581                -0.235735   \n",
      "...                     ...                      ...   \n",
      "3772               0.264467                 0.634395   \n",
      "5191               0.194164                 0.782091   \n",
      "5226              -0.182228                 0.768820   \n",
      "5390              -0.956262                 0.328993   \n",
      "860                0.201456                -1.061543   \n",
      "\n",
      "      Atomic_radius_calculated  Atomic_weight  Pauling_EN_div   entropy  \\\n",
      "2609                 -0.552344       0.567011       -0.624004 -0.254491   \n",
      "2656                  0.470794       0.704572        0.011255  0.227747   \n",
      "5317                  0.802928       0.497148        0.606237  0.599201   \n",
      "2669                 -0.697601       0.371932       -0.253462 -0.348908   \n",
      "3317                 -0.197596      -0.366462       -0.064487  0.319646   \n",
      "...                        ...            ...             ...       ...   \n",
      "3772                 -0.903992      -0.011640       -0.548935  0.472646   \n",
      "5191                  0.550637       0.565941       -0.217059 -0.126535   \n",
      "5226                  0.577977       0.540996        0.086575 -0.141623   \n",
      "5390                  0.890377       0.472963        0.818891  0.485833   \n",
      "860                  -1.261606      -1.237720        0.307668  0.002959   \n",
      "\n",
      "      Atomic_radius_calculated_dif  Enthalpy  E_per_el  \n",
      "2609                     -0.254155  0.536264 -0.166277  \n",
      "2656                     -0.889517  0.828115 -0.158983  \n",
      "5317                     -0.894093  0.997543 -0.049386  \n",
      "2669                      0.034904  0.308281 -0.089531  \n",
      "3317                      0.379924 -0.594096  0.222200  \n",
      "...                            ...       ...       ...  \n",
      "3772                      0.094075 -0.040535  0.045946  \n",
      "5191                     -1.196151  0.242691 -0.109542  \n",
      "5226                     -1.084729  0.654611 -0.110300  \n",
      "5390                     -0.889939  1.031192 -0.022431  \n",
      "860                       1.237586 -0.747688  0.525130  \n",
      "\n",
      "[5109 rows x 13 columns]\n"
     ]
    }
   ],
   "source": [
    "print(X_train)"
   ]
  },
  {
   "cell_type": "code",
   "execution_count": null,
   "id": "5dbe99e6",
   "metadata": {},
   "outputs": [],
   "source": []
  }
 ],
 "metadata": {
  "kernelspec": {
   "display_name": "Python [conda env:pt] *",
   "language": "python",
   "name": "conda-env-pt-py"
  },
  "language_info": {
   "codemirror_mode": {
    "name": "ipython",
    "version": 3
   },
   "file_extension": ".py",
   "mimetype": "text/x-python",
   "name": "python",
   "nbconvert_exporter": "python",
   "pygments_lexer": "ipython3",
   "version": "3.8.15"
  },
  "varInspector": {
   "cols": {
    "lenName": 16,
    "lenType": 16,
    "lenVar": 40
   },
   "kernels_config": {
    "python": {
     "delete_cmd_postfix": "",
     "delete_cmd_prefix": "del ",
     "library": "var_list.py",
     "varRefreshCmd": "print(var_dic_list())"
    },
    "r": {
     "delete_cmd_postfix": ") ",
     "delete_cmd_prefix": "rm(",
     "library": "var_list.r",
     "varRefreshCmd": "cat(var_dic_list()) "
    }
   },
   "oldHeight": 326.844,
   "position": {
    "height": "348.844px",
    "left": "1164px",
    "right": "20px",
    "top": "120px",
    "width": "359px"
   },
   "types_to_exclude": [
    "module",
    "function",
    "builtin_function_or_method",
    "instance",
    "_Feature"
   ],
   "varInspector_section_display": "block",
   "window_display": true
  }
 },
 "nbformat": 4,
 "nbformat_minor": 5
}
